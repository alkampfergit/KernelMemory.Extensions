{
 "cells": [
  {
   "cell_type": "code",
   "execution_count": 2,
   "metadata": {
    "metadata": {}
   },
   "outputs": [
    {
     "data": {
      "text/plain": [
       "False"
      ]
     },
     "execution_count": 2,
     "metadata": {},
     "output_type": "execute_result"
    }
   ],
   "source": [
    "import torch\n",
    "torch.cuda.is_available()\n",
    "\n"
   ]
  },
  {
   "cell_type": "code",
   "execution_count": 1,
   "metadata": {
    "metadata": {}
   },
   "outputs": [
    {
     "name": "stderr",
     "output_type": "stream",
     "text": [
      "/workspaces/KernelMemory.Extensions/src/python/KernelMemory/lib/python3.10/site-packages/tqdm/auto.py:21: TqdmWarning: IProgress not found. Please update jupyter and ipywidgets. See https://ipywidgets.readthedocs.io/en/stable/user_install.html\n",
      "  from .autonotebook import tqdm as notebook_tqdm\n"
     ]
    }
   ],
   "source": [
    "#load models\n",
    "from FlagEmbedding import FlagReranker\n",
    "from sentence_transformers import CrossEncoder\n",
    "\n",
    "# Initialize the reranker\n",
    "reranker = FlagReranker('BAAI/bge-reranker-large', use_fp16=True)  # Setting use_fp16 to True speeds up computation with a slight performance degradation\n",
    "\n",
    "# Now standard SBERT\n",
    "# Initialize the cross-encoder model\n",
    "model = CrossEncoder('cross-encoder/ms-marco-MiniLM-L-12-v2', max_length=512)\n"
   ]
  },
  {
   "cell_type": "code",
   "execution_count": 2,
   "metadata": {
    "metadata": {}
   },
   "outputs": [],
   "source": [
    "\n",
    "# Define the question and possible answers\n",
    "question = \"Please explain cross encoder in the context of artificial intelligence\"\n",
    "sentences = [\n",
    "    \"You can find lots of transformers in the huggingface site, as well as cross encoders\",\n",
    "    \"Maples trees lives a really long number of years, but you need to take care of them, place a cross on the tree.\",\n",
    "    \"i'm an enthusiast of AI especially of generative AI because it gives a lots of new techniques for Natural Language Processing\",\n",
    "    \"huggingface is the facto the place of custom models.\",\n",
    "    \"please explain cross encoder\",\n",
    "    \"A cross encoder is a type of neural network architecture used in natural language processing tasks. It takes pairs of sentences as input and produces a single fixed-length vector representation that captures the semantic similarity between the two sentences.\",\n",
    "    \"In the context of crossing roads, a cross encoder refers to a device or system that controls the timing of traffic lights at intersections, ensuring the safe crossing of vehicles and pedestrians\",\n",
    "    \"Cross encoder is a term used in transportation engineering to describe a technique for optimizing the design of road intersections, taking into account factors such as traffic flow, safety, and efficiency of movement across different roads.\"\n",
    "]\n"
   ]
  },
  {
   "cell_type": "code",
   "execution_count": 4,
   "metadata": {
    "metadata": {}
   },
   "outputs": [],
   "source": [
    "\n",
    "# Compute scores for the question and possible answers\n",
    "scores = reranker.compute_score([[question, answer] for answer in sentences])\n"
   ]
  },
  {
   "cell_type": "code",
   "execution_count": 5,
   "metadata": {
    "metadata": {}
   },
   "outputs": [],
   "source": [
    "\n",
    "# Compute scores for the question and possible answers\n",
    "scoressbert = model.predict([(question, answer) for answer in sentences])\n"
   ]
  },
  {
   "cell_type": "code",
   "execution_count": 7,
   "metadata": {
    "metadata": {}
   },
   "outputs": [
    {
     "name": "stdout",
     "output_type": "stream",
     "text": [
      "Document Rank: 1, Document Index: 5 Relevance Score: 1.00\n",
      "Document Rank: 2, Document Index: 6 Relevance Score: 0.99\n",
      "Document Rank: 3, Document Index: 7 Relevance Score: 0.95\n",
      "Document Rank: 4, Document Index: 0 Relevance Score: 0.40\n",
      "Document Rank: 5, Document Index: 4 Relevance Score: 0.21\n",
      "Document Rank: 6, Document Index: 2 Relevance Score: 0.02\n",
      "Document Rank: 7, Document Index: 3 Relevance Score: 0.02\n",
      "Document Rank: 8, Document Index: 1 Relevance Score: 0.00\n"
     ]
    }
   ],
   "source": [
    "# Now cohere\n",
    "import cohere\n",
    "import os\n",
    "from dotenv import load_dotenv, find_dotenv\n",
    "\n",
    "_ = load_dotenv(find_dotenv()) # read local .env file\n",
    "\n",
    "co = cohere.Client(os.getenv(\"COHERE_API_KEY\"))\n",
    "\n",
    "coresults = co.rerank(query=question, documents=sentences, top_n=10, model='rerank-english-v2.0', return_documents=False) # Change top_n to change the number of results returned. If top_n is not passed, all results will be returned.\n",
    "for idx, r in enumerate(coresults.results):\n",
    "  print(f\"Document Rank: {idx + 1}, Document Index: {r.index} Relevance Score: {r.relevance_score:.2f}\")\n"
   ]
  },
  {
   "cell_type": "code",
   "execution_count": 8,
   "metadata": {
    "metadata": {}
   },
   "outputs": [
    {
     "name": "stdout",
     "output_type": "stream",
     "text": [
      "[-5.548015117645264, -9.480554580688477, -8.299059867858887, -9.462210655212402, 9.492735862731934, 0.4065203368663788, -0.42575928568840027, -1.9448825120925903]\n",
      "[ -3.51413   -11.317091   -9.698744  -11.310938    5.5058546   5.1461453\n",
      "   3.9989958   3.7147536]\n",
      "Scores\n",
      "[4, 5, 6, 7, 0, 2, 3, 1]\n",
      "ScoresBert\n",
      "[4, 5, 6, 7, 0, 2, 3, 1]\n",
      "ScoresCohere\n",
      "[5, 6, 7, 0, 4, 2, 3, 1]\n"
     ]
    }
   ],
   "source": [
    "\n",
    "print(scores)\n",
    "print(scoressbert)\n",
    "\n",
    "# now print all the index sorted in descending order based on the value of scores and scoresbert\n",
    "print(\"Scores\")\n",
    "print(sorted(range(len(scores)), key=lambda i: scores[i], reverse=True))\n",
    "print(\"ScoresBert\")\n",
    "print(sorted(range(len(scoressbert)), key=lambda i: scoressbert[i], reverse=True))\n",
    "print(\"ScoresCohere\")\n",
    "print([r.index for r in coresults.results])\n"
   ]
  },
  {
   "cell_type": "code",
   "execution_count": 16,
   "metadata": {
    "metadata": {}
   },
   "outputs": [
    {
     "name": "stdout",
     "output_type": "stream",
     "text": [
      "[0.207 0.    0.062 0.001 1.    0.521 0.478 0.397]\n",
      "[4.638e-01 0.000e+00 9.620e-02 3.659e-04 1.000e+00 9.786e-01 9.104e-01\n",
      " 8.935e-01]\n"
     ]
    }
   ],
   "source": [
    "\n",
    "# Now normalize the scores in range 0 1\n",
    "import numpy as np\n",
    "scores = np.array(scores)\n",
    "scoressbert = np.array(scoressbert)\n",
    "scores = (scores - scores.min()) / (scores.max() - scores.min())\n",
    "scoressbert = (scoressbert - scoressbert.min()) / (scoressbert.max() - scoressbert.min())\n",
    "\n",
    "# print with maximum 3 decimal places\n",
    "np.set_printoptions(precision=3)\n",
    "\n",
    "print(scores)\n",
    "print(scoressbert)\n"
   ]
  }
 ],
 "metadata": {
  "kernelspec": {
   "display_name": "KernelMemory",
   "language": "python",
   "name": "kernelmemory"
  },
  "language_info": {
   "codemirror_mode": {
    "name": "ipython",
    "version": 3
   },
   "file_extension": ".py",
   "mimetype": "text/x-python",
   "name": "python",
   "nbconvert_exporter": "python",
   "pygments_lexer": "ipython3",
   "version": "3.10.13"
  }
 },
 "nbformat": 4,
 "nbformat_minor": 2
}
